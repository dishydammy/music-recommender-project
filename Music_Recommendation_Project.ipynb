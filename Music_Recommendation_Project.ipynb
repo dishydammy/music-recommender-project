{
  "nbformat": 4,
  "nbformat_minor": 0,
  "metadata": {
    "colab": {
      "provenance": []
    },
    "kernelspec": {
      "name": "python3",
      "display_name": "Python 3"
    },
    "language_info": {
      "name": "python"
    }
  },
  "cells": [
    {
      "cell_type": "code",
      "execution_count": null,
      "metadata": {
        "id": "xoUbtFOPmBdR"
      },
      "outputs": [],
      "source": [
        "!pip install kaggle -q"
      ]
    },
    {
      "cell_type": "code",
      "source": [
        "import os\n",
        "import json\n",
        "import zipfile\n",
        "\n",
        "import numpy as np\n",
        "import pandas as pd\n",
        "import matplotlib.pyplot as plt\n",
        "import seaborn as sns\n",
        "\n",
        "from sklearn.feature_extraction.text import TfidfVectorizer\n",
        "from sklearn.metrics.pairwise import cosine_similarity\n",
        "from wordcloud import WordCloud\n",
        "import re\n",
        "import nltk\n",
        "from nltk.corpus import stopwords\n",
        "from nltk.tokenize import word_tokenize"
      ],
      "metadata": {
        "id": "XGtD68WinGxZ"
      },
      "execution_count": null,
      "outputs": []
    },
    {
      "cell_type": "code",
      "source": [
        "kaggle_config = json.load(open('kaggle.json'))"
      ],
      "metadata": {
        "id": "5YLgTpetnJiY"
      },
      "execution_count": null,
      "outputs": []
    },
    {
      "cell_type": "code",
      "source": [
        "# Setting the environment variables\n",
        "\n",
        "os.environ['KAGGLE_USERNAME'] = kaggle_config['username']\n",
        "os.environ['KAGGLE_KEY'] = kaggle_config['key']"
      ],
      "metadata": {
        "id": "4svlPU-LryQs"
      },
      "execution_count": null,
      "outputs": []
    },
    {
      "cell_type": "code",
      "source": [
        "# Loading the dataset using kaggle API\n",
        "!kaggle datasets download notshrirang/spotify-million-song-dataset"
      ],
      "metadata": {
        "id": "oLLX4iW-toS8"
      },
      "execution_count": null,
      "outputs": []
    },
    {
      "cell_type": "code",
      "source": [
        "# Extract th contents of the downloaded zipfile\n",
        "\n",
        "with zipfile.ZipFile('spotify-million-song-dataset.zip', 'r') as zip_ref:\n",
        "    zip_ref.extractall()"
      ],
      "metadata": {
        "id": "o7XifKrPupv_"
      },
      "execution_count": null,
      "outputs": []
    },
    {
      "cell_type": "code",
      "source": [
        "# Load the csv file into a dataframe\n",
        "\n",
        "df = pd.read_csv('/content/spotify_millsongdata.csv')"
      ],
      "metadata": {
        "id": "-yPsPX7GutSt"
      },
      "execution_count": null,
      "outputs": []
    },
    {
      "cell_type": "code",
      "source": [
        "df.head()"
      ],
      "metadata": {
        "id": "fCLOzdNevew5"
      },
      "execution_count": null,
      "outputs": []
    },
    {
      "cell_type": "code",
      "source": [
        "df.shape"
      ],
      "metadata": {
        "id": "D3-Bf4VVvgL1"
      },
      "execution_count": null,
      "outputs": []
    },
    {
      "cell_type": "code",
      "source": [
        "df.info()"
      ],
      "metadata": {
        "id": "TFDXJ7YGxVMi"
      },
      "execution_count": null,
      "outputs": []
    },
    {
      "cell_type": "markdown",
      "source": [
        "## EDA"
      ],
      "metadata": {
        "id": "O0FQqE8pz1zU"
      }
    },
    {
      "cell_type": "code",
      "source": [
        "# Top Artists\n",
        "\n",
        "top_artists = df['artist'].value_counts().head(10)\n",
        "print(\"Top 10 Artists:\")\n",
        "print(top_artists)"
      ],
      "metadata": {
        "id": "6bDt3tHozx2K"
      },
      "execution_count": null,
      "outputs": []
    },
    {
      "cell_type": "code",
      "source": [
        "df = df.sample(10000)\n",
        "\n",
        "df = df.drop('link', axis=1).reset_index(drop=True)"
      ],
      "metadata": {
        "id": "IqsWWJ_SxZqU"
      },
      "execution_count": null,
      "outputs": []
    },
    {
      "cell_type": "code",
      "source": [
        "# WordCloud for song lyrics\n",
        "\n",
        "all_lyrics = ' '.join(df['text'].dropna())\n",
        "wordcloud = WordCloud(width=800, height=400, background_color='white').generate(all_lyrics)"
      ],
      "metadata": {
        "id": "ThJDbWUXkxWg"
      },
      "execution_count": null,
      "outputs": []
    },
    {
      "cell_type": "code",
      "source": [
        "plt.figure(figsize=(10, 5))\n",
        "plt.imshow(wordcloud, interpolation='bilinear')\n",
        "plt.axis('off')\n",
        "plt.title('The most common words in lyrics')\n",
        "plt.show()"
      ],
      "metadata": {
        "id": "4oSCN3nKnMzj"
      },
      "execution_count": null,
      "outputs": []
    },
    {
      "cell_type": "markdown",
      "source": [
        "## Data Preprocessing"
      ],
      "metadata": {
        "id": "x3ejo1suqxAQ"
      }
    },
    {
      "cell_type": "code",
      "source": [
        " # Download nltk data\n",
        "\n",
        " nltk.download('punkt')\n",
        " nltk.download('punkt_tab')\n",
        " nltk.download('stopwords')"
      ],
      "metadata": {
        "id": "LgL2GQljnWEh"
      },
      "execution_count": null,
      "outputs": []
    },
    {
      "cell_type": "code",
      "source": [
        "stop_words = set(stopwords.words('english'))"
      ],
      "metadata": {
        "id": "Y87x619XqOCf"
      },
      "execution_count": null,
      "outputs": []
    },
    {
      "cell_type": "code",
      "source": [
        "def preprocess_text(text):\n",
        "  # Remove special characters and numbers\n",
        "  text = re.sub(r\"[^a-zA-Z\\s]\", \"\", text)\n",
        "  # Convert to lowercase\n",
        "  text = text.lower()\n",
        "  # Tokenize and remove the stopwords\n",
        "  tokens = word_tokenize(text)\n",
        "  tokens = [word for word in tokens if word not in stop_words]\n",
        "  return \" \".join(tokens)"
      ],
      "metadata": {
        "id": "kTAq8EIArG18"
      },
      "execution_count": null,
      "outputs": []
    },
    {
      "cell_type": "code",
      "source": [
        " # Apply preprocessing to lyrics\n",
        " df['cleaned_text'] = df['text'].apply(preprocess_text)"
      ],
      "metadata": {
        "id": "fEUSXLsIwClf"
      },
      "execution_count": null,
      "outputs": []
    },
    {
      "cell_type": "code",
      "source": [
        "# Vectorization with TF-IDF\n",
        "tfidf_vectorizer = TfidfVectorizer(max_features = 5000)\n",
        "tfidf_matrix = tfidf_vectorizer.fit_transform(df['cleaned_text'])"
      ],
      "metadata": {
        "id": "BCysZURHy00x"
      },
      "execution_count": null,
      "outputs": []
    },
    {
      "cell_type": "code",
      "source": [
        "# Computing Cosine Similarity\n",
        "cosine_sim = cosine_similarity(tfidf_matrix, tfidf_matrix)"
      ],
      "metadata": {
        "id": "s1rsSu1Wz-gg"
      },
      "execution_count": null,
      "outputs": []
    },
    {
      "cell_type": "code",
      "source": [
        "def recommend_songs(song_name, cosine_sim=cosine_sim, df=df, top_n=5):\n",
        "\n",
        "  idx = df[df['song'].str.lower() == song_name.lower()].index\n",
        "  if len(idx) == 0:\n",
        "    return \"Song not found in the dataset\"\n",
        "  idx = idx[0]\n",
        "\n",
        "  #Get similarity scores\n",
        "  sim_scores = list(enumerate(cosine_sim[idx]))\n",
        "  sim_scores = sorted(sim_scores, key=lambda x: x[1], reverse=True)\n",
        "  sim_scores = sim_scores[1:top_n+1]\n",
        "\n",
        "  # Get song indices\n",
        "  song_indices = [i[0] for i in sim_scores]\n",
        "\n",
        "  #Return top and similar songs\n",
        "  return df[['artist', 'song']].iloc[song_indices]"
      ],
      "metadata": {
        "id": "c8SkFsUW0xmC"
      },
      "execution_count": null,
      "outputs": []
    },
    {
      "cell_type": "code",
      "source": [
        "print(\"\\nRecommendations for song 'Cain and Abel':\")\n",
        "recommendations = recommend_songs('Cain and Abel')\n",
        "print(recommendations)"
      ],
      "metadata": {
        "id": "Fi81wThVikxP"
      },
      "execution_count": null,
      "outputs": []
    }
  ]
}